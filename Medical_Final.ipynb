{
  "nbformat": 4,
  "nbformat_minor": 0,
  "metadata": {
    "colab": {
      "provenance": []
    },
    "kernelspec": {
      "name": "python3",
      "display_name": "Python 3"
    },
    "language_info": {
      "name": "python"
    }
  },
  "cells": [
    {
      "cell_type": "code",
      "execution_count": null,
      "metadata": {
        "id": "zpYSEXH7RL2Z"
      },
      "outputs": [],
      "source": [
        "import pandas as pd\n",
        "import numpy as np\n",
        "from sklearn.linear_model import LogisticRegression\n",
        "from sklearn.metrics import accuracy_score\n",
        "from sklearn.model_selection import train_test_split\n",
        "#!pip install scikit-optimize\n",
        "from sklearn.ensemble import RandomForestClassifier\n",
        "from sklearn.neighbors import KNeighborsClassifier\n",
        "from sklearn.model_selection import cross_val_predict\n",
        "from sklearn.metrics import confusion_matrix\n",
        "from sklearn.svm import SVC\n",
        "from sklearn.metrics import matthews_corrcoef\n",
        "import matplotlib.pyplot as plt\n",
        "from sklearn.metrics import roc_curve, roc_auc_score\n",
        "from sklearn import metrics\n",
        "from sklearn.model_selection import StratifiedKFold\n",
        "from sklearn.model_selection import cross_val_score\n",
        "import warnings\n",
        "warnings.filterwarnings('ignore')\n"
      ]
    },
    {
      "cell_type": "code",
      "source": [
        "df = pd.read_csv('Merged Datasets.csv')\n",
        "df"
      ],
      "metadata": {
        "colab": {
          "base_uri": "https://localhost:8080/",
          "height": 444
        },
        "id": "U7APVMKWRUq1",
        "outputId": "0cbd5ffb-474d-453a-da95-986a0dc30253"
      },
      "execution_count": null,
      "outputs": [
        {
          "output_type": "execute_result",
          "data": {
            "text/plain": [
              "      col1    col2      col3        col4    col5      col6       col7  \\\n",
              "0     5733   71028   1154534    21149286   70321    863426   13981256   \n",
              "1    26469  716432  25819310  1049819498  715064  19257171  693182107   \n",
              "2     5025   61271    968951    17156855   58356    712477   11260297   \n",
              "3    12468  236408   5882648   164649074  241245   4572804  113740236   \n",
              "4     5461   67386   1097332    20094078   66837    829574   13517914   \n",
              "..     ...     ...       ...         ...     ...       ...        ...   \n",
              "195   3337   32393    418919     6133085   31862    304573    3909251   \n",
              "196  23960  586290  18895034   685207482  590223  14465760  466926554   \n",
              "197   4371   47401    677607    10924111   46004    496355    7080413   \n",
              "198   1491   10290     93302      954468    9858     69297     632765   \n",
              "199   3344   31542    384526     5291658   29703    276733    3333657   \n",
              "\n",
              "         col8       col9       col10  ...  col145  col146  col147  col148  \\\n",
              "0     1131315   13789154    20442223  ...      12       8      17      10   \n",
              "1    25739532  690002375  1043915912  ...       2      16      15      13   \n",
              "2      869042   10590445    14567994  ...      16      18      17      17   \n",
              "3     6140133  116299688   174893343  ...       6      10      11       6   \n",
              "4     1059655   13170084    18788259  ...       9       8       6       9   \n",
              "..        ...        ...         ...  ...     ...     ...     ...     ...   \n",
              "195    392754    3704969     5435738  ...       6       9       9       3   \n",
              "196  19167811  470558718   700123149  ...       8      11      13       3   \n",
              "197    629242    6738063     9683030  ...      10      14       1      10   \n",
              "198     81536     573055      752886  ...      13       4      10      15   \n",
              "199    338347    3105807     4338321  ...       8      17       5       9   \n",
              "\n",
              "     col149  col150  col151  col152  col153  class  \n",
              "0         4      17      18       2       7      1  \n",
              "1        12      11       2      17       2      1  \n",
              "2        17      20       2       2      12      1  \n",
              "3        13      15       6      13      13      1  \n",
              "4         9       5       6      10       9      1  \n",
              "..      ...     ...     ...     ...     ...    ...  \n",
              "195      18       1      14       8       5      0  \n",
              "196      16       1       9      12      10      0  \n",
              "197      10       3      12       4       3      0  \n",
              "198      14       6       8       9       3      0  \n",
              "199      16      18      17      15       4      0  \n",
              "\n",
              "[200 rows x 154 columns]"
            ],
            "text/html": [
              "\n",
              "  <div id=\"df-279a3f91-f3a4-477e-a3fb-7618b1aaf3d6\" class=\"colab-df-container\">\n",
              "    <div>\n",
              "<style scoped>\n",
              "    .dataframe tbody tr th:only-of-type {\n",
              "        vertical-align: middle;\n",
              "    }\n",
              "\n",
              "    .dataframe tbody tr th {\n",
              "        vertical-align: top;\n",
              "    }\n",
              "\n",
              "    .dataframe thead th {\n",
              "        text-align: right;\n",
              "    }\n",
              "</style>\n",
              "<table border=\"1\" class=\"dataframe\">\n",
              "  <thead>\n",
              "    <tr style=\"text-align: right;\">\n",
              "      <th></th>\n",
              "      <th>col1</th>\n",
              "      <th>col2</th>\n",
              "      <th>col3</th>\n",
              "      <th>col4</th>\n",
              "      <th>col5</th>\n",
              "      <th>col6</th>\n",
              "      <th>col7</th>\n",
              "      <th>col8</th>\n",
              "      <th>col9</th>\n",
              "      <th>col10</th>\n",
              "      <th>...</th>\n",
              "      <th>col145</th>\n",
              "      <th>col146</th>\n",
              "      <th>col147</th>\n",
              "      <th>col148</th>\n",
              "      <th>col149</th>\n",
              "      <th>col150</th>\n",
              "      <th>col151</th>\n",
              "      <th>col152</th>\n",
              "      <th>col153</th>\n",
              "      <th>class</th>\n",
              "    </tr>\n",
              "  </thead>\n",
              "  <tbody>\n",
              "    <tr>\n",
              "      <th>0</th>\n",
              "      <td>5733</td>\n",
              "      <td>71028</td>\n",
              "      <td>1154534</td>\n",
              "      <td>21149286</td>\n",
              "      <td>70321</td>\n",
              "      <td>863426</td>\n",
              "      <td>13981256</td>\n",
              "      <td>1131315</td>\n",
              "      <td>13789154</td>\n",
              "      <td>20442223</td>\n",
              "      <td>...</td>\n",
              "      <td>12</td>\n",
              "      <td>8</td>\n",
              "      <td>17</td>\n",
              "      <td>10</td>\n",
              "      <td>4</td>\n",
              "      <td>17</td>\n",
              "      <td>18</td>\n",
              "      <td>2</td>\n",
              "      <td>7</td>\n",
              "      <td>1</td>\n",
              "    </tr>\n",
              "    <tr>\n",
              "      <th>1</th>\n",
              "      <td>26469</td>\n",
              "      <td>716432</td>\n",
              "      <td>25819310</td>\n",
              "      <td>1049819498</td>\n",
              "      <td>715064</td>\n",
              "      <td>19257171</td>\n",
              "      <td>693182107</td>\n",
              "      <td>25739532</td>\n",
              "      <td>690002375</td>\n",
              "      <td>1043915912</td>\n",
              "      <td>...</td>\n",
              "      <td>2</td>\n",
              "      <td>16</td>\n",
              "      <td>15</td>\n",
              "      <td>13</td>\n",
              "      <td>12</td>\n",
              "      <td>11</td>\n",
              "      <td>2</td>\n",
              "      <td>17</td>\n",
              "      <td>2</td>\n",
              "      <td>1</td>\n",
              "    </tr>\n",
              "    <tr>\n",
              "      <th>2</th>\n",
              "      <td>5025</td>\n",
              "      <td>61271</td>\n",
              "      <td>968951</td>\n",
              "      <td>17156855</td>\n",
              "      <td>58356</td>\n",
              "      <td>712477</td>\n",
              "      <td>11260297</td>\n",
              "      <td>869042</td>\n",
              "      <td>10590445</td>\n",
              "      <td>14567994</td>\n",
              "      <td>...</td>\n",
              "      <td>16</td>\n",
              "      <td>18</td>\n",
              "      <td>17</td>\n",
              "      <td>17</td>\n",
              "      <td>17</td>\n",
              "      <td>20</td>\n",
              "      <td>2</td>\n",
              "      <td>2</td>\n",
              "      <td>12</td>\n",
              "      <td>1</td>\n",
              "    </tr>\n",
              "    <tr>\n",
              "      <th>3</th>\n",
              "      <td>12468</td>\n",
              "      <td>236408</td>\n",
              "      <td>5882648</td>\n",
              "      <td>164649074</td>\n",
              "      <td>241245</td>\n",
              "      <td>4572804</td>\n",
              "      <td>113740236</td>\n",
              "      <td>6140133</td>\n",
              "      <td>116299688</td>\n",
              "      <td>174893343</td>\n",
              "      <td>...</td>\n",
              "      <td>6</td>\n",
              "      <td>10</td>\n",
              "      <td>11</td>\n",
              "      <td>6</td>\n",
              "      <td>13</td>\n",
              "      <td>15</td>\n",
              "      <td>6</td>\n",
              "      <td>13</td>\n",
              "      <td>13</td>\n",
              "      <td>1</td>\n",
              "    </tr>\n",
              "    <tr>\n",
              "      <th>4</th>\n",
              "      <td>5461</td>\n",
              "      <td>67386</td>\n",
              "      <td>1097332</td>\n",
              "      <td>20094078</td>\n",
              "      <td>66837</td>\n",
              "      <td>829574</td>\n",
              "      <td>13517914</td>\n",
              "      <td>1059655</td>\n",
              "      <td>13170084</td>\n",
              "      <td>18788259</td>\n",
              "      <td>...</td>\n",
              "      <td>9</td>\n",
              "      <td>8</td>\n",
              "      <td>6</td>\n",
              "      <td>9</td>\n",
              "      <td>9</td>\n",
              "      <td>5</td>\n",
              "      <td>6</td>\n",
              "      <td>10</td>\n",
              "      <td>9</td>\n",
              "      <td>1</td>\n",
              "    </tr>\n",
              "    <tr>\n",
              "      <th>...</th>\n",
              "      <td>...</td>\n",
              "      <td>...</td>\n",
              "      <td>...</td>\n",
              "      <td>...</td>\n",
              "      <td>...</td>\n",
              "      <td>...</td>\n",
              "      <td>...</td>\n",
              "      <td>...</td>\n",
              "      <td>...</td>\n",
              "      <td>...</td>\n",
              "      <td>...</td>\n",
              "      <td>...</td>\n",
              "      <td>...</td>\n",
              "      <td>...</td>\n",
              "      <td>...</td>\n",
              "      <td>...</td>\n",
              "      <td>...</td>\n",
              "      <td>...</td>\n",
              "      <td>...</td>\n",
              "      <td>...</td>\n",
              "      <td>...</td>\n",
              "    </tr>\n",
              "    <tr>\n",
              "      <th>195</th>\n",
              "      <td>3337</td>\n",
              "      <td>32393</td>\n",
              "      <td>418919</td>\n",
              "      <td>6133085</td>\n",
              "      <td>31862</td>\n",
              "      <td>304573</td>\n",
              "      <td>3909251</td>\n",
              "      <td>392754</td>\n",
              "      <td>3704969</td>\n",
              "      <td>5435738</td>\n",
              "      <td>...</td>\n",
              "      <td>6</td>\n",
              "      <td>9</td>\n",
              "      <td>9</td>\n",
              "      <td>3</td>\n",
              "      <td>18</td>\n",
              "      <td>1</td>\n",
              "      <td>14</td>\n",
              "      <td>8</td>\n",
              "      <td>5</td>\n",
              "      <td>0</td>\n",
              "    </tr>\n",
              "    <tr>\n",
              "      <th>196</th>\n",
              "      <td>23960</td>\n",
              "      <td>586290</td>\n",
              "      <td>18895034</td>\n",
              "      <td>685207482</td>\n",
              "      <td>590223</td>\n",
              "      <td>14465760</td>\n",
              "      <td>466926554</td>\n",
              "      <td>19167811</td>\n",
              "      <td>470558718</td>\n",
              "      <td>700123149</td>\n",
              "      <td>...</td>\n",
              "      <td>8</td>\n",
              "      <td>11</td>\n",
              "      <td>13</td>\n",
              "      <td>3</td>\n",
              "      <td>16</td>\n",
              "      <td>1</td>\n",
              "      <td>9</td>\n",
              "      <td>12</td>\n",
              "      <td>10</td>\n",
              "      <td>0</td>\n",
              "    </tr>\n",
              "    <tr>\n",
              "      <th>197</th>\n",
              "      <td>4371</td>\n",
              "      <td>47401</td>\n",
              "      <td>677607</td>\n",
              "      <td>10924111</td>\n",
              "      <td>46004</td>\n",
              "      <td>496355</td>\n",
              "      <td>7080413</td>\n",
              "      <td>629242</td>\n",
              "      <td>6738063</td>\n",
              "      <td>9683030</td>\n",
              "      <td>...</td>\n",
              "      <td>10</td>\n",
              "      <td>14</td>\n",
              "      <td>1</td>\n",
              "      <td>10</td>\n",
              "      <td>10</td>\n",
              "      <td>3</td>\n",
              "      <td>12</td>\n",
              "      <td>4</td>\n",
              "      <td>3</td>\n",
              "      <td>0</td>\n",
              "    </tr>\n",
              "    <tr>\n",
              "      <th>198</th>\n",
              "      <td>1491</td>\n",
              "      <td>10290</td>\n",
              "      <td>93302</td>\n",
              "      <td>954468</td>\n",
              "      <td>9858</td>\n",
              "      <td>69297</td>\n",
              "      <td>632765</td>\n",
              "      <td>81536</td>\n",
              "      <td>573055</td>\n",
              "      <td>752886</td>\n",
              "      <td>...</td>\n",
              "      <td>13</td>\n",
              "      <td>4</td>\n",
              "      <td>10</td>\n",
              "      <td>15</td>\n",
              "      <td>14</td>\n",
              "      <td>6</td>\n",
              "      <td>8</td>\n",
              "      <td>9</td>\n",
              "      <td>3</td>\n",
              "      <td>0</td>\n",
              "    </tr>\n",
              "    <tr>\n",
              "      <th>199</th>\n",
              "      <td>3344</td>\n",
              "      <td>31542</td>\n",
              "      <td>384526</td>\n",
              "      <td>5291658</td>\n",
              "      <td>29703</td>\n",
              "      <td>276733</td>\n",
              "      <td>3333657</td>\n",
              "      <td>338347</td>\n",
              "      <td>3105807</td>\n",
              "      <td>4338321</td>\n",
              "      <td>...</td>\n",
              "      <td>8</td>\n",
              "      <td>17</td>\n",
              "      <td>5</td>\n",
              "      <td>9</td>\n",
              "      <td>16</td>\n",
              "      <td>18</td>\n",
              "      <td>17</td>\n",
              "      <td>15</td>\n",
              "      <td>4</td>\n",
              "      <td>0</td>\n",
              "    </tr>\n",
              "  </tbody>\n",
              "</table>\n",
              "<p>200 rows × 154 columns</p>\n",
              "</div>\n",
              "    <div class=\"colab-df-buttons\">\n",
              "\n",
              "  <div class=\"colab-df-container\">\n",
              "    <button class=\"colab-df-convert\" onclick=\"convertToInteractive('df-279a3f91-f3a4-477e-a3fb-7618b1aaf3d6')\"\n",
              "            title=\"Convert this dataframe to an interactive table.\"\n",
              "            style=\"display:none;\">\n",
              "\n",
              "  <svg xmlns=\"http://www.w3.org/2000/svg\" height=\"24px\" viewBox=\"0 -960 960 960\">\n",
              "    <path d=\"M120-120v-720h720v720H120Zm60-500h600v-160H180v160Zm220 220h160v-160H400v160Zm0 220h160v-160H400v160ZM180-400h160v-160H180v160Zm440 0h160v-160H620v160ZM180-180h160v-160H180v160Zm440 0h160v-160H620v160Z\"/>\n",
              "  </svg>\n",
              "    </button>\n",
              "\n",
              "  <style>\n",
              "    .colab-df-container {\n",
              "      display:flex;\n",
              "      gap: 12px;\n",
              "    }\n",
              "\n",
              "    .colab-df-convert {\n",
              "      background-color: #E8F0FE;\n",
              "      border: none;\n",
              "      border-radius: 50%;\n",
              "      cursor: pointer;\n",
              "      display: none;\n",
              "      fill: #1967D2;\n",
              "      height: 32px;\n",
              "      padding: 0 0 0 0;\n",
              "      width: 32px;\n",
              "    }\n",
              "\n",
              "    .colab-df-convert:hover {\n",
              "      background-color: #E2EBFA;\n",
              "      box-shadow: 0px 1px 2px rgba(60, 64, 67, 0.3), 0px 1px 3px 1px rgba(60, 64, 67, 0.15);\n",
              "      fill: #174EA6;\n",
              "    }\n",
              "\n",
              "    .colab-df-buttons div {\n",
              "      margin-bottom: 4px;\n",
              "    }\n",
              "\n",
              "    [theme=dark] .colab-df-convert {\n",
              "      background-color: #3B4455;\n",
              "      fill: #D2E3FC;\n",
              "    }\n",
              "\n",
              "    [theme=dark] .colab-df-convert:hover {\n",
              "      background-color: #434B5C;\n",
              "      box-shadow: 0px 1px 3px 1px rgba(0, 0, 0, 0.15);\n",
              "      filter: drop-shadow(0px 1px 2px rgba(0, 0, 0, 0.3));\n",
              "      fill: #FFFFFF;\n",
              "    }\n",
              "  </style>\n",
              "\n",
              "    <script>\n",
              "      const buttonEl =\n",
              "        document.querySelector('#df-279a3f91-f3a4-477e-a3fb-7618b1aaf3d6 button.colab-df-convert');\n",
              "      buttonEl.style.display =\n",
              "        google.colab.kernel.accessAllowed ? 'block' : 'none';\n",
              "\n",
              "      async function convertToInteractive(key) {\n",
              "        const element = document.querySelector('#df-279a3f91-f3a4-477e-a3fb-7618b1aaf3d6');\n",
              "        const dataTable =\n",
              "          await google.colab.kernel.invokeFunction('convertToInteractive',\n",
              "                                                    [key], {});\n",
              "        if (!dataTable) return;\n",
              "\n",
              "        const docLinkHtml = 'Like what you see? Visit the ' +\n",
              "          '<a target=\"_blank\" href=https://colab.research.google.com/notebooks/data_table.ipynb>data table notebook</a>'\n",
              "          + ' to learn more about interactive tables.';\n",
              "        element.innerHTML = '';\n",
              "        dataTable['output_type'] = 'display_data';\n",
              "        await google.colab.output.renderOutput(dataTable, element);\n",
              "        const docLink = document.createElement('div');\n",
              "        docLink.innerHTML = docLinkHtml;\n",
              "        element.appendChild(docLink);\n",
              "      }\n",
              "    </script>\n",
              "  </div>\n",
              "\n",
              "\n",
              "<div id=\"df-06176d11-9a8e-432e-9655-4200f24a9be6\">\n",
              "  <button class=\"colab-df-quickchart\" onclick=\"quickchart('df-06176d11-9a8e-432e-9655-4200f24a9be6')\"\n",
              "            title=\"Suggest charts.\"\n",
              "            style=\"display:none;\">\n",
              "\n",
              "<svg xmlns=\"http://www.w3.org/2000/svg\" height=\"24px\"viewBox=\"0 0 24 24\"\n",
              "     width=\"24px\">\n",
              "    <g>\n",
              "        <path d=\"M19 3H5c-1.1 0-2 .9-2 2v14c0 1.1.9 2 2 2h14c1.1 0 2-.9 2-2V5c0-1.1-.9-2-2-2zM9 17H7v-7h2v7zm4 0h-2V7h2v10zm4 0h-2v-4h2v4z\"/>\n",
              "    </g>\n",
              "</svg>\n",
              "  </button>\n",
              "\n",
              "<style>\n",
              "  .colab-df-quickchart {\n",
              "      --bg-color: #E8F0FE;\n",
              "      --fill-color: #1967D2;\n",
              "      --hover-bg-color: #E2EBFA;\n",
              "      --hover-fill-color: #174EA6;\n",
              "      --disabled-fill-color: #AAA;\n",
              "      --disabled-bg-color: #DDD;\n",
              "  }\n",
              "\n",
              "  [theme=dark] .colab-df-quickchart {\n",
              "      --bg-color: #3B4455;\n",
              "      --fill-color: #D2E3FC;\n",
              "      --hover-bg-color: #434B5C;\n",
              "      --hover-fill-color: #FFFFFF;\n",
              "      --disabled-bg-color: #3B4455;\n",
              "      --disabled-fill-color: #666;\n",
              "  }\n",
              "\n",
              "  .colab-df-quickchart {\n",
              "    background-color: var(--bg-color);\n",
              "    border: none;\n",
              "    border-radius: 50%;\n",
              "    cursor: pointer;\n",
              "    display: none;\n",
              "    fill: var(--fill-color);\n",
              "    height: 32px;\n",
              "    padding: 0;\n",
              "    width: 32px;\n",
              "  }\n",
              "\n",
              "  .colab-df-quickchart:hover {\n",
              "    background-color: var(--hover-bg-color);\n",
              "    box-shadow: 0 1px 2px rgba(60, 64, 67, 0.3), 0 1px 3px 1px rgba(60, 64, 67, 0.15);\n",
              "    fill: var(--button-hover-fill-color);\n",
              "  }\n",
              "\n",
              "  .colab-df-quickchart-complete:disabled,\n",
              "  .colab-df-quickchart-complete:disabled:hover {\n",
              "    background-color: var(--disabled-bg-color);\n",
              "    fill: var(--disabled-fill-color);\n",
              "    box-shadow: none;\n",
              "  }\n",
              "\n",
              "  .colab-df-spinner {\n",
              "    border: 2px solid var(--fill-color);\n",
              "    border-color: transparent;\n",
              "    border-bottom-color: var(--fill-color);\n",
              "    animation:\n",
              "      spin 1s steps(1) infinite;\n",
              "  }\n",
              "\n",
              "  @keyframes spin {\n",
              "    0% {\n",
              "      border-color: transparent;\n",
              "      border-bottom-color: var(--fill-color);\n",
              "      border-left-color: var(--fill-color);\n",
              "    }\n",
              "    20% {\n",
              "      border-color: transparent;\n",
              "      border-left-color: var(--fill-color);\n",
              "      border-top-color: var(--fill-color);\n",
              "    }\n",
              "    30% {\n",
              "      border-color: transparent;\n",
              "      border-left-color: var(--fill-color);\n",
              "      border-top-color: var(--fill-color);\n",
              "      border-right-color: var(--fill-color);\n",
              "    }\n",
              "    40% {\n",
              "      border-color: transparent;\n",
              "      border-right-color: var(--fill-color);\n",
              "      border-top-color: var(--fill-color);\n",
              "    }\n",
              "    60% {\n",
              "      border-color: transparent;\n",
              "      border-right-color: var(--fill-color);\n",
              "    }\n",
              "    80% {\n",
              "      border-color: transparent;\n",
              "      border-right-color: var(--fill-color);\n",
              "      border-bottom-color: var(--fill-color);\n",
              "    }\n",
              "    90% {\n",
              "      border-color: transparent;\n",
              "      border-bottom-color: var(--fill-color);\n",
              "    }\n",
              "  }\n",
              "</style>\n",
              "\n",
              "  <script>\n",
              "    async function quickchart(key) {\n",
              "      const quickchartButtonEl =\n",
              "        document.querySelector('#' + key + ' button');\n",
              "      quickchartButtonEl.disabled = true;  // To prevent multiple clicks.\n",
              "      quickchartButtonEl.classList.add('colab-df-spinner');\n",
              "      try {\n",
              "        const charts = await google.colab.kernel.invokeFunction(\n",
              "            'suggestCharts', [key], {});\n",
              "      } catch (error) {\n",
              "        console.error('Error during call to suggestCharts:', error);\n",
              "      }\n",
              "      quickchartButtonEl.classList.remove('colab-df-spinner');\n",
              "      quickchartButtonEl.classList.add('colab-df-quickchart-complete');\n",
              "    }\n",
              "    (() => {\n",
              "      let quickchartButtonEl =\n",
              "        document.querySelector('#df-06176d11-9a8e-432e-9655-4200f24a9be6 button');\n",
              "      quickchartButtonEl.style.display =\n",
              "        google.colab.kernel.accessAllowed ? 'block' : 'none';\n",
              "    })();\n",
              "  </script>\n",
              "</div>\n",
              "    </div>\n",
              "  </div>\n"
            ]
          },
          "metadata": {},
          "execution_count": 2
        }
      ]
    },
    {
      "cell_type": "code",
      "source": [
        "df=df.fillna(0)"
      ],
      "metadata": {
        "id": "TCCSr-TdRZbC"
      },
      "execution_count": null,
      "outputs": []
    },
    {
      "cell_type": "code",
      "source": [
        "X=df.drop(['class'],axis=1)\n",
        "y=df['class']\n",
        "from sklearn.preprocessing import StandardScaler, MinMaxScaler\n",
        "from sklearn import preprocessing"
      ],
      "metadata": {
        "id": "zao_HO5cRbCK"
      },
      "execution_count": null,
      "outputs": []
    },
    {
      "cell_type": "code",
      "source": [
        "X = MinMaxScaler().fit_transform(X)"
      ],
      "metadata": {
        "id": "O3YQ43E6RclS"
      },
      "execution_count": null,
      "outputs": []
    },
    {
      "cell_type": "code",
      "source": [
        "#lr_train=LogisticRegression().fit(X,y)\n",
        "#y_pred_lr=lr_train.predict(X)\n",
        "#clf = lr_train.fit(X, y)\n",
        "#pred=np.round(clf.predict(X))\n",
        "#confusion = confusion_matrix(y, pred, labels=[1, 0]).ravel()\n",
        "#print(confusion)\n",
        "\n",
        "\n"
      ],
      "metadata": {
        "id": "gQTyfU6qhjy_"
      },
      "execution_count": null,
      "outputs": []
    },
    {
      "cell_type": "code",
      "source": [
        "#print(metrics.accuracy_score(y, pred))\n"
      ],
      "metadata": {
        "id": "4p2qpSfpiDTa"
      },
      "execution_count": null,
      "outputs": []
    },
    {
      "cell_type": "code",
      "source": [
        "#print(f\"Accuracy = {metrics.accuracy_score(y, pred)}\")\n",
        "#print(f\"Precision = {metrics.precision_score(y, pred)}\")\n",
        "#print(f\"Recall = {metrics.recall_score(y, pred)}\")"
      ],
      "metadata": {
        "id": "ZBZOZ8bub_vd"
      },
      "execution_count": null,
      "outputs": []
    },
    {
      "cell_type": "code",
      "source": [
        "#X_train, X_test, y_train, y_test = train_test_split(X, y, test_size=0.2, random_state=1, shuffle=True)\n",
        "#X_train.shape, y_train.shape, X_test.shape, y_test.shape"
      ],
      "metadata": {
        "id": "AxYC7032Remy"
      },
      "execution_count": null,
      "outputs": []
    },
    {
      "cell_type": "code",
      "source": [
        "X_train, X_test, y_train, y_test = train_test_split(X, y, train_size=80, test_size=20, random_state=34, stratify=y)"
      ],
      "metadata": {
        "id": "iIvzei3shgvl"
      },
      "execution_count": null,
      "outputs": []
    },
    {
      "cell_type": "code",
      "source": [
        "lr=LogisticRegression().fit(X_train,y_train)"
      ],
      "metadata": {
        "id": "nHwYAMy8Rf3K"
      },
      "execution_count": null,
      "outputs": []
    },
    {
      "cell_type": "code",
      "source": [
        "y_pred_lr=lr.predict(X_test)"
      ],
      "metadata": {
        "id": "0Sw0p5wHRkDb"
      },
      "execution_count": null,
      "outputs": []
    },
    {
      "cell_type": "code",
      "source": [
        "print(\"Test Accuracy for LR :\",metrics.accuracy_score(y_test, y_pred_lr))\n",
        "print(f\"Accuracy = {metrics.accuracy_score(y_test, y_pred_lr)}\")\n",
        "print(f\"Precision = {metrics.precision_score(y_test, y_pred_lr)}\")\n",
        "print(f\"Recall = {metrics.recall_score(y_test, y_pred_lr)}\")\n",
        "print(f\"F1_Score = {metrics.f1_score(y_test, y_pred_lr)}\")"
      ],
      "metadata": {
        "colab": {
          "base_uri": "https://localhost:8080/"
        },
        "id": "jPrKBNwsRla6",
        "outputId": "f5277c15-f5bc-4229-fd5c-57b2e88b4380"
      },
      "execution_count": null,
      "outputs": [
        {
          "output_type": "stream",
          "name": "stdout",
          "text": [
            "Test Accuracy for LR : 0.6\n",
            "Accuracy = 0.6\n",
            "Precision = 0.5833333333333334\n",
            "Recall = 0.7\n",
            "F1_Score = 0.6363636363636365\n"
          ]
        }
      ]
    },
    {
      "cell_type": "code",
      "source": [
        "from sklearn.metrics import ConfusionMatrixDisplay\n",
        "cm = confusion_matrix(y_test, y_pred_lr)\n",
        "disp = ConfusionMatrixDisplay(confusion_matrix=cm)\n",
        "disp.plot()\n"
      ],
      "metadata": {
        "colab": {
          "base_uri": "https://localhost:8080/",
          "height": 472
        },
        "id": "y6e5N6-W6G-_",
        "outputId": "935551e5-cbd2-4816-e4c4-9669877c8f51"
      },
      "execution_count": null,
      "outputs": [
        {
          "output_type": "execute_result",
          "data": {
            "text/plain": [
              "<sklearn.metrics._plot.confusion_matrix.ConfusionMatrixDisplay at 0x7bbee58f2ad0>"
            ]
          },
          "metadata": {},
          "execution_count": 14
        },
        {
          "output_type": "display_data",
          "data": {
            "text/plain": [
              "<Figure size 640x480 with 2 Axes>"
            ],
            "image/png": "[encoded data removed]"
          },
          "metadata": {}
        }
      ]
    },
    {
      "cell_type": "code",
      "source": [
        "rf=RandomForestClassifier().fit(X_train,y_train)\n",
        "y_pred_rf=rf.predict(X_test)\n",
        "print(\"Test Accuracy for RF :\",metrics.accuracy_score(y_test, y_pred_rf)*100)\n",
        "print(f\"Accuracy = {metrics.accuracy_score(y_test, y_pred_rf)}\")\n",
        "print(f\"Precision = {metrics.precision_score(y_test, y_pred_rf)}\")\n",
        "print(f\"Recall = {metrics.recall_score(y_test, y_pred_rf)}\")\n",
        "print(f\"F1_Score = {metrics.f1_score(y_test, y_pred_rf)}\")"
      ],
      "metadata": {
        "colab": {
          "base_uri": "https://localhost:8080/"
        },
        "id": "A3sIAj8cRmxS",
        "outputId": "0e5c1793-f3d1-4dcc-8bbd-643f76b1efb9"
      },
      "execution_count": null,
      "outputs": [
        {
          "output_type": "stream",
          "name": "stdout",
          "text": [
            "Test Accuracy for RF : 50.0\n",
            "Accuracy = 0.5\n",
            "Precision = 0.5\n",
            "Recall = 0.7\n",
            "F1_Score = 0.5833333333333334\n"
          ]
        }
      ]
    },
    {
      "cell_type": "code",
      "source": [
        "cm = confusion_matrix(y_test, y_pred_rf)\n",
        "disp = ConfusionMatrixDisplay(confusion_matrix=cm)\n",
        "disp.plot()\n",
        "plt.show()"
      ],
      "metadata": {
        "colab": {
          "base_uri": "https://localhost:8080/",
          "height": 455
        },
        "id": "OHslXmKW91Z-",
        "outputId": "1f584f8a-fab8-44ed-974e-1c47e210e479"
      },
      "execution_count": null,
      "outputs": [
        {
          "output_type": "display_data",
          "data": {
            "text/plain": [
              "<Figure size 640x480 with 2 Axes>"
            ],
            "image/png": "[encoded data removed]"
          },
          "metadata": {}
        }
      ]
    },
    {
      "cell_type": "code",
      "source": [
        "svc=SVC(probability=True).fit(X_train,y_train)\n",
        "y_pred_svc=svc.predict(X_test)\n",
        "print(\"Test Accuracy for SVC :\",metrics.accuracy_score(y_test, y_pred_svc)*100)\n",
        "print(f\"Accuracy = {metrics.accuracy_score(y_test, y_pred_svc)}\")\n",
        "print(f\"Precision = {metrics.precision_score(y_test, y_pred_svc)}\")\n",
        "print(f\"Recall = {metrics.recall_score(y_test, y_pred_svc)}\")\n",
        "print(f\"F1_Score = {metrics.f1_score(y_test, y_pred_svc)}\")"
      ],
      "metadata": {
        "colab": {
          "base_uri": "https://localhost:8080/"
        },
        "id": "udQ80yBuRph7",
        "outputId": "37e0aade-393b-4114-859f-174be9fd9bba"
      },
      "execution_count": null,
      "outputs": [
        {
          "output_type": "stream",
          "name": "stdout",
          "text": [
            "Test Accuracy for SVC : 65.0\n",
            "Accuracy = 0.65\n",
            "Precision = 0.6153846153846154\n",
            "Recall = 0.8\n",
            "F1_Score = 0.6956521739130435\n"
          ]
        }
      ]
    },
    {
      "cell_type": "code",
      "source": [
        "cm = confusion_matrix(y_test, y_pred_svc)\n",
        "disp = ConfusionMatrixDisplay(confusion_matrix=cm)\n",
        "disp.plot()\n",
        "plt.show()"
      ],
      "metadata": {
        "colab": {
          "base_uri": "https://localhost:8080/",
          "height": 455
        },
        "id": "ZzA6dkW7-SSZ",
        "outputId": "f4fe5363-e3d2-43c4-d825-3f7858821035"
      },
      "execution_count": null,
      "outputs": [
        {
          "output_type": "display_data",
          "data": {
            "text/plain": [
              "<Figure size 640x480 with 2 Axes>"
            ],
            "image/png": "[encoded data removed]"
          },
          "metadata": {}
        }
      ]
    },
    {
      "cell_type": "code",
      "source": [
        "knn = KNeighborsClassifier().fit(X_train, y_train)\n",
        "y_pred_kn=knn.predict(X_test)\n",
        "print(\"Test Accuracy for KNN :\",metrics.accuracy_score(y_test, y_pred_kn)*100)\n",
        "print(f\"Accuracy = {metrics.accuracy_score(y_test, y_pred_kn)}\")\n",
        "print(f\"Precision = {metrics.precision_score(y_test, y_pred_kn)}\")\n",
        "print(f\"Recall = {metrics.recall_score(y_test, y_pred_kn)}\")\n",
        "print(f\"F1_Score = {metrics.f1_score(y_test, y_pred_kn)}\")"
      ],
      "metadata": {
        "colab": {
          "base_uri": "https://localhost:8080/"
        },
        "id": "GPN8LhwERrXK",
        "outputId": "771f90d5-670d-45a2-faa0-686247da87ed"
      },
      "execution_count": null,
      "outputs": [
        {
          "output_type": "stream",
          "name": "stdout",
          "text": [
            "Test Accuracy for KNN : 60.0\n",
            "Accuracy = 0.6\n",
            "Precision = 0.6\n",
            "Recall = 0.6\n",
            "F1_Score = 0.6\n"
          ]
        }
      ]
    },
    {
      "cell_type": "code",
      "source": [
        "cm = confusion_matrix(y_test, y_pred_kn)\n",
        "disp = ConfusionMatrixDisplay(confusion_matrix=cm)\n",
        "disp.plot()\n",
        "plt.show()"
      ],
      "metadata": {
        "colab": {
          "base_uri": "https://localhost:8080/",
          "height": 455
        },
        "id": "URBpm7HQ-Vod",
        "outputId": "b5ddd4a8-84b1-4466-8c4f-d794e5c0743a"
      },
      "execution_count": null,
      "outputs": [
        {
          "output_type": "display_data",
          "data": {
            "text/plain": [
              "<Figure size 640x480 with 2 Axes>"
            ],
            "image/png": "[encoded data removed]"
          },
          "metadata": {}
        }
      ]
    },
    {
      "cell_type": "code",
      "source": [
        "from sklearn.ensemble import GradientBoostingClassifier\n",
        "gdc = GradientBoostingClassifier().fit(X_train, y_train)\n",
        "y_pred_gdc=gdc.predict(X_test)\n",
        "print(\"Test Accuracy for GDC :\",metrics.accuracy_score(y_test, y_pred_gdc)*100)\n",
        "print(f\"Accuracy = {metrics.accuracy_score(y_test, y_pred_gdc)}\")\n",
        "print(f\"Precision = {metrics.precision_score(y_test, y_pred_gdc)}\")\n",
        "print(f\"Recall = {metrics.recall_score(y_test, y_pred_gdc)}\")\n",
        "print(f\"F1_Score = {metrics.f1_score(y_test, y_pred_gdc)}\")"
      ],
      "metadata": {
        "colab": {
          "base_uri": "https://localhost:8080/"
        },
        "id": "UFme-EtvSHzy",
        "outputId": "a75aed14-4d3e-431e-d7a4-8fcf550c85b7"
      },
      "execution_count": null,
      "outputs": [
        {
          "output_type": "stream",
          "name": "stdout",
          "text": [
            "Test Accuracy for GDC : 45.0\n",
            "Accuracy = 0.45\n",
            "Precision = 0.46153846153846156\n",
            "Recall = 0.6\n",
            "F1_Score = 0.5217391304347826\n"
          ]
        }
      ]
    },
    {
      "cell_type": "code",
      "source": [
        "cm = confusion_matrix(y_test, y_pred_gdc)\n",
        "disp = ConfusionMatrixDisplay(confusion_matrix=cm)\n",
        "disp.plot()\n",
        "plt.show()"
      ],
      "metadata": {
        "colab": {
          "base_uri": "https://localhost:8080/",
          "height": 455
        },
        "id": "drzyOC7c-Z0K",
        "outputId": "77154766-112b-4407-ecb2-eda4c3eabebc"
      },
      "execution_count": null,
      "outputs": [
        {
          "output_type": "display_data",
          "data": {
            "text/plain": [
              "<Figure size 640x480 with 2 Axes>"
            ],
            "image/png": "[encoded data removed]"
          },
          "metadata": {}
        }
      ]
    },
    {
      "cell_type": "code",
      "source": [
        "from sklearn.naive_bayes import GaussianNB\n",
        "gnb = GaussianNB().fit(X_train, y_train)\n",
        "y_pred_gnb=gnb.predict(X_test)\n",
        "print(\"Test Accuracy for Gnb :\",metrics.accuracy_score(y_test, y_pred_gnb)*100)\n",
        "print(f\"Accuracy = {metrics.accuracy_score(y_test, y_pred_gnb)}\")\n",
        "print(f\"Precision = {metrics.precision_score(y_test, y_pred_gnb)}\")\n",
        "print(f\"Recall = {metrics.recall_score(y_test, y_pred_gnb)}\")\n",
        "print(f\"F1_Score = {metrics.f1_score(y_test, y_pred_gnb)}\")"
      ],
      "metadata": {
        "colab": {
          "base_uri": "https://localhost:8080/"
        },
        "id": "w6d8CjaGaVin",
        "outputId": "9006199a-f670-40ec-e83e-434fdfd753e7"
      },
      "execution_count": null,
      "outputs": [
        {
          "output_type": "stream",
          "name": "stdout",
          "text": [
            "Test Accuracy for Gnb : 55.00000000000001\n",
            "Accuracy = 0.55\n",
            "Precision = 1.0\n",
            "Recall = 0.1\n",
            "F1_Score = 0.18181818181818182\n"
          ]
        }
      ]
    },
    {
      "cell_type": "code",
      "source": [
        "cm = confusion_matrix(y_test, y_pred_gnb)\n",
        "disp = ConfusionMatrixDisplay(confusion_matrix=cm)\n",
        "disp.plot()\n",
        "plt.show()"
      ],
      "metadata": {
        "colab": {
          "base_uri": "https://localhost:8080/",
          "height": 455
        },
        "id": "nXT2zGrZ-din",
        "outputId": "f8796c4d-73ee-48ee-fc07-109eb1f19779"
      },
      "execution_count": null,
      "outputs": [
        {
          "output_type": "display_data",
          "data": {
            "text/plain": [
              "<Figure size 640x480 with 2 Axes>"
            ],
            "image/png": "[encoded data removed]"
          },
          "metadata": {}
        }
      ]
    },
    {
      "cell_type": "code",
      "source": [
        "#predicting probabilities\n",
        "rf_probs = rf.predict_proba(X_test)\n",
        "lr_probs = lr.predict_proba(X_test)\n",
        "svc_probs = svc.predict_proba(X_test)\n",
        "knn_probs = knn.predict_proba(X_test)\n",
        "gdc_probs = gdc.predict_proba(X_test)\n",
        "gnb_probs = gnb.predict_proba(X_test)\n",
        "\n",
        "rf_probs = rf_probs[:, 1]\n",
        "lr_probs = lr_probs[:, 1]\n",
        "svc_probs = svc_probs[:, 1]\n",
        "knn_probs = knn_probs[:, 1]\n",
        "gdc_probs = gdc_probs[:, 1]\n",
        "gnb_probs = gnb_probs[:, 1]\n",
        "\n",
        "#calclulate the rocauc score\n",
        "rf_auc = roc_auc_score(y_test, rf_probs)\n",
        "lr_auc = roc_auc_score(y_test, lr_probs)\n",
        "svc_auc = roc_auc_score(y_test, svc_probs)\n",
        "knn_auc = roc_auc_score(y_test, knn_probs)\n",
        "gdc_auc = roc_auc_score(y_test, gdc_probs)\n",
        "gnb_auc = roc_auc_score(y_test, gnb_probs)\n",
        "\n",
        "print('RF: AUROC = %.3f' % (rf_auc))\n",
        "print('LR: AUROC = %.3f' % (lr_auc))\n",
        "print('SVC: AUROC = %.3f' % (svc_auc))\n",
        "print('KNN: AUROC = %.3f' % (knn_auc))\n",
        "print('GDC: AUROC = %.3f' % (gdc_auc))\n",
        "print('GNB: AUROC = %.3f' % (gnb_auc))\n",
        "\n",
        "rf_fpr, rf_tpr, _ = roc_curve(y_test, rf_probs)\n",
        "lr_fpr, lr_tpr, _ = roc_curve(y_test, lr_probs)\n",
        "svc_fpr, svc_tpr, _ = roc_curve(y_test, svc_probs)\n",
        "knn_fpr, knn_tpr, _ = roc_curve(y_test, knn_probs)\n",
        "gdc_fpr, gdc_tpr, _ = roc_curve(y_test, gdc_probs)\n",
        "gnb_fpr, gnb_tpr, _ = roc_curve(y_test, gnb_probs)\n",
        "\n",
        "plt.plot([0, 1], [0, 1], linestyle=\"--\", lw=2, color=\"r\", label=\"Chance\", alpha=0.8)\n",
        "plt.plot(rf_fpr, rf_tpr, marker='.', label='Random Forest (AUROC = %0.3f)' % rf_auc)\n",
        "plt.plot(lr_fpr, lr_tpr, marker='.', label='Logistic Regression (AUROC = %0.3f)' % lr_auc)\n",
        "plt.plot(svc_fpr, svc_tpr, marker='.', label='Support Vector Machine (AUROC = %0.3f)' % svc_auc)\n",
        "plt.plot(knn_fpr, knn_tpr, marker='.', label='KNeighbors (AUROC = %0.3f)' % knn_auc)\n",
        "plt.plot(gdc_fpr, gdc_tpr, marker='.', label='Gradient Boosting Classifier (AUROC = %0.3f)' % gdc_auc)\n",
        "plt.plot(gnb_fpr, gnb_tpr, marker='.', label='GaussianNB (AUROC = %0.3f)' % gnb_auc)\n",
        "\n",
        "# Title\n",
        "plt.title('ROCAUC Plot')\n",
        "# Axis labels\n",
        "plt.xlabel('False Positive Rate')\n",
        "plt.ylabel('True Positive Rate')\n",
        "# Show legend\n",
        "plt.legend() #\n",
        "# Show plot\n",
        "plt.show()\n"
      ],
      "metadata": {
        "colab": {
          "base_uri": "https://localhost:8080/",
          "height": 576
        },
        "id": "UdGsEBi3cgVw",
        "outputId": "8550831c-aaca-45c8-b9b2-a40518b8ae2e"
      },
      "execution_count": null,
      "outputs": [
        {
          "output_type": "stream",
          "name": "stdout",
          "text": [
            "RF: AUROC = 0.490\n",
            "LR: AUROC = 0.570\n",
            "SVC: AUROC = 0.340\n",
            "KNN: AUROC = 0.585\n",
            "GDC: AUROC = 0.610\n",
            "GNB: AUROC = 0.820\n"
          ]
        },
        {
          "output_type": "display_data",
          "data": {
            "text/plain": [
              "<Figure size 640x480 with 1 Axes>"
            ],
            "image/png": "[encoded data removed]"
          },
          "metadata": {}
        }
      ]
    },
    {
      "cell_type": "code",
      "source": [
        "print(\"MCC RF: \",matthews_corrcoef(y_test,y_pred_rf)*100)\n",
        "print(\"MCC SVC: \",matthews_corrcoef(y_test,y_pred_svc)*100)\n",
        "print(\"MCC LR: \",matthews_corrcoef(y_test,y_pred_lr)*100)\n",
        "print(\"KNN SVC: \",matthews_corrcoef(y_test,y_pred_kn)*100)\n",
        "print(\"GBC SVC: \",matthews_corrcoef(y_test,y_pred_gdc)*100)\n",
        "print(\"NGB SVC: \",matthews_corrcoef(y_test,y_pred_gnb)*100)"
      ],
      "metadata": {
        "colab": {
          "base_uri": "https://localhost:8080/"
        },
        "id": "IcxwDECMd7O4",
        "outputId": "ecbfa05b-134d-492f-8d7f-38da52304465"
      },
      "execution_count": null,
      "outputs": [
        {
          "output_type": "stream",
          "name": "stdout",
          "text": [
            "MCC RF:  0.0\n",
            "MCC SVC:  31.448545101657547\n",
            "MCC LR:  20.41241452319315\n",
            "KNN SVC:  20.0\n",
            "GBC SVC:  -10.482848367219184\n",
            "NGB SVC:  22.941573387056174\n"
          ]
        }
      ]
    },
    {
      "cell_type": "code",
      "source": [],
      "metadata": {
        "id": "zPRvJFIMVXhP"
      },
      "execution_count": null,
      "outputs": []
    }
  ]
}